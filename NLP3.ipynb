{
  "nbformat": 4,
  "nbformat_minor": 0,
  "metadata": {
    "colab": {
      "provenance": []
    },
    "kernelspec": {
      "name": "python3",
      "display_name": "Python 3"
    },
    "language_info": {
      "name": "python"
    }
  },
  "cells": [
    {
      "cell_type": "code",
      "execution_count": null,
      "metadata": {
        "id": "coEjHRR9cbLo"
      },
      "outputs": [],
      "source": [
        "from urllib import request"
      ]
    },
    {
      "cell_type": "code",
      "source": [
        "url=\"https://www.gutenberg.org/cache/epub/69965/pg69965.txt\""
      ],
      "metadata": {
        "id": "qoL67ynxeUk6"
      },
      "execution_count": null,
      "outputs": []
    },
    {
      "cell_type": "code",
      "source": [
        "response = request.urlopen(url)"
      ],
      "metadata": {
        "id": "dXkESEdTeYZX"
      },
      "execution_count": null,
      "outputs": []
    },
    {
      "cell_type": "code",
      "source": [
        "raw = response.read().decode('utf8')"
      ],
      "metadata": {
        "id": "O8j8_ln5eYzc"
      },
      "execution_count": null,
      "outputs": []
    },
    {
      "cell_type": "code",
      "source": [
        "import nltk\n",
        "nltk.download('punkt')\n",
        "from nltk.tokenize import word_tokenize\n",
        "tokens = word_tokenize(raw)"
      ],
      "metadata": {
        "id": "nDuRMHmbeY6r",
        "colab": {
          "base_uri": "https://localhost:8080/"
        },
        "outputId": "41b3381b-a9a3-4013-bb54-dfb0ca7c20d8"
      },
      "execution_count": 20,
      "outputs": [
        {
          "output_type": "stream",
          "name": "stderr",
          "text": [
            "[nltk_data] Downloading package punkt to /root/nltk_data...\n",
            "[nltk_data]   Package punkt is already up-to-date!\n"
          ]
        }
      ]
    },
    {
      "cell_type": "code",
      "source": [
        "print(tokens[:20])"
      ],
      "metadata": {
        "id": "i2-R-RFpgt3x",
        "colab": {
          "base_uri": "https://localhost:8080/"
        },
        "outputId": "a6658d64-a143-4c29-b189-36162751c14c"
      },
      "execution_count": 12,
      "outputs": [
        {
          "output_type": "stream",
          "name": "stdout",
          "text": [
            "['\\ufeffThe', 'Project', 'Gutenberg', 'eBook', 'of', 'Horrors', 'of', 'vaccination', 'exposed', 'and', 'illustrated', ',', 'by', 'Chas', '.', 'M.', 'Higgins', 'This', 'eBook', 'is']\n"
          ]
        }
      ]
    },
    {
      "cell_type": "code",
      "source": [
        "from nltk.stem import RegexpStemmer\n",
        "porter = RegexpStemmer('ing')\n",
        "porter.stem('singing')#cling ring"
      ],
      "metadata": {
        "colab": {
          "base_uri": "https://localhost:8080/",
          "height": 36
        },
        "id": "IvRjkiFEizvg",
        "outputId": "1002f4f5-2d68-4946-e3aa-6d19d7163a4e"
      },
      "execution_count": 23,
      "outputs": [
        {
          "output_type": "execute_result",
          "data": {
            "text/plain": [
              "'s'"
            ],
            "application/vnd.google.colaboratory.intrinsic+json": {
              "type": "string"
            }
          },
          "metadata": {},
          "execution_count": 23
        }
      ]
    },
    {
      "cell_type": "code",
      "source": [
        "from nltk.stem import LancasterStemmer\n",
        "porter = LancasterStemmer()\n",
        "porter.stem('happiness')"
      ],
      "metadata": {
        "id": "TPXS_08Igw6k",
        "colab": {
          "base_uri": "https://localhost:8080/",
          "height": 36
        },
        "outputId": "ae37ad25-845a-44ab-ea2a-64c07a1f3380"
      },
      "execution_count": 17,
      "outputs": [
        {
          "output_type": "execute_result",
          "data": {
            "text/plain": [
              "'happy'"
            ],
            "application/vnd.google.colaboratory.intrinsic+json": {
              "type": "string"
            }
          },
          "metadata": {},
          "execution_count": 17
        }
      ]
    },
    {
      "cell_type": "code",
      "source": [
        "from nltk.stem import PorterStemmer\n",
        "porter = PorterStemmer()\n",
        "porter.stem('happiness')"
      ],
      "metadata": {
        "colab": {
          "base_uri": "https://localhost:8080/",
          "height": 36
        },
        "id": "lWKGtvErh4c3",
        "outputId": "b5996325-2ec1-43a4-8771-5a5f10e6650c"
      },
      "execution_count": 19,
      "outputs": [
        {
          "output_type": "execute_result",
          "data": {
            "text/plain": [
              "'happi'"
            ],
            "application/vnd.google.colaboratory.intrinsic+json": {
              "type": "string"
            }
          },
          "metadata": {},
          "execution_count": 19
        }
      ]
    },
    {
      "cell_type": "code",
      "source": [
        "from nltk.stem import SnowballStemmer\n",
        "porter = SnowballStemmer('french')\n",
        "porter.stem('detester')"
      ],
      "metadata": {
        "colab": {
          "base_uri": "https://localhost:8080/",
          "height": 36
        },
        "id": "8p4xg54VjH-s",
        "outputId": "6f1b7808-975d-4333-f1b6-8f37b5fafc47"
      },
      "execution_count": 24,
      "outputs": [
        {
          "output_type": "execute_result",
          "data": {
            "text/plain": [
              "'detest'"
            ],
            "application/vnd.google.colaboratory.intrinsic+json": {
              "type": "string"
            }
          },
          "metadata": {},
          "execution_count": 24
        }
      ]
    },
    {
      "cell_type": "code",
      "source": [
        "from nltk.stem import SnowballStemmer\n",
        "porter = SnowballStemmer('french')\n",
        "porter.stem('avoir')"
      ],
      "metadata": {
        "colab": {
          "base_uri": "https://localhost:8080/",
          "height": 36
        },
        "id": "s5ypgK-MjYu3",
        "outputId": "affd5807-94f4-4aff-f58c-53f21ec7603a"
      },
      "execution_count": 27,
      "outputs": [
        {
          "output_type": "execute_result",
          "data": {
            "text/plain": [
              "'avoir'"
            ],
            "application/vnd.google.colaboratory.intrinsic+json": {
              "type": "string"
            }
          },
          "metadata": {},
          "execution_count": 27
        }
      ]
    },
    {
      "cell_type": "code",
      "source": [
        "from nltk.stem import PorterStemmer\n",
        "porter = PorterStemmer()\n",
        "text = \"Compulsory Vaccination is an instance of a law which inflicts actual disease and possible death on the human body and propagates and disseminates deadly infections widely upon.\"\n",
        "text = [porter.stem(token) for token in text.split(\" \")]"
      ],
      "metadata": {
        "id": "8wmK2gJZjduv"
      },
      "execution_count": 28,
      "outputs": []
    },
    {
      "cell_type": "code",
      "source": [
        "print(\" \".join(text))"
      ],
      "metadata": {
        "colab": {
          "base_uri": "https://localhost:8080/"
        },
        "id": "TpXaos8rkuzm",
        "outputId": "aed65668-5ea0-4888-db89-5f652e6b2f14"
      },
      "execution_count": 29,
      "outputs": [
        {
          "output_type": "stream",
          "name": "stdout",
          "text": [
            "compulsori vaccin is an instanc of a law which inflict actual diseas and possibl death on the human bodi and propag and dissemin deadli infect wide upon.\n"
          ]
        }
      ]
    },
    {
      "cell_type": "code",
      "source": [
        "from nltk.stem import LancasterStemmer\n",
        "porter = LancasterStemmer()\n",
        "text = \"Compulsory Vaccination is an instance of a law which inflicts actual disease and possible death on the human body and propagates and disseminates deadly infections widely upon.\"\n",
        "text = [porter.stem(token) for token in text.split(\" \")]"
      ],
      "metadata": {
        "id": "hE5OFvZtkzbf"
      },
      "execution_count": 30,
      "outputs": []
    },
    {
      "cell_type": "code",
      "source": [
        "print(\" \".join(text))"
      ],
      "metadata": {
        "colab": {
          "base_uri": "https://localhost:8080/"
        },
        "id": "AM-QOTeElBPk",
        "outputId": "8655afa3-c438-4eb0-fb6f-31cc5df85d2a"
      },
      "execution_count": 31,
      "outputs": [
        {
          "output_type": "stream",
          "name": "stdout",
          "text": [
            "compuls vaccin is an inst of a law which inflict act diseas and poss dea on the hum body and prop and dissemin dead infect wid upon.\n"
          ]
        }
      ]
    },
    {
      "cell_type": "code",
      "source": [],
      "metadata": {
        "id": "GKNsRuRtlDFE"
      },
      "execution_count": null,
      "outputs": []
    }
  ]
}