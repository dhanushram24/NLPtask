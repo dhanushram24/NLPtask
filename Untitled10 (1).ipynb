{
  "nbformat": 4,
  "nbformat_minor": 0,
  "metadata": {
    "colab": {
      "provenance": []
    },
    "kernelspec": {
      "name": "python3",
      "display_name": "Python 3"
    },
    "language_info": {
      "name": "python"
    }
  },
  "cells": [
    {
      "cell_type": "code",
      "execution_count": null,
      "metadata": {
        "id": "PYwxiD0W33a_"
      },
      "outputs": [],
      "source": [
        "import spacy\n",
        "m = spacy.load('en_core_web_sm')"
      ]
    },
    {
      "cell_type": "code",
      "source": [
        "import pandas as pd\n",
        "df = pd.read_csv('IMDB Dataset.csv')"
      ],
      "metadata": {
        "id": "uJ0BSkgv36xJ"
      },
      "execution_count": null,
      "outputs": []
    },
    {
      "cell_type": "code",
      "source": [
        "df.head(10)"
      ],
      "metadata": {
        "id": "po_hF_y038vC"
      },
      "execution_count": null,
      "outputs": []
    },
    {
      "cell_type": "code",
      "source": [
        "df['review'][10] "
      ],
      "metadata": {
        "id": "RIRof5L_390f"
      },
      "execution_count": null,
      "outputs": []
    },
    {
      "cell_type": "code",
      "source": [
        "from nltk.stem.porter import PorterStemmer\n",
        "porter = PorterStemmer()"
      ],
      "metadata": {
        "id": "MoLhDiVq3_-V"
      },
      "execution_count": null,
      "outputs": []
    },
    {
      "cell_type": "code",
      "source": [
        "def stemmer_tokenize (text):\n",
        "  return [porter.stem(word) for word in text.split()]"
      ],
      "metadata": {
        "id": "kdUVMkeC4CMU"
      },
      "execution_count": null,
      "outputs": []
    },
    {
      "cell_type": "code",
      "source": [
        "stemmer_tokenize('coders like coding and thus they code ')"
      ],
      "metadata": {
        "id": "v7mz_XzN4KB2"
      },
      "execution_count": null,
      "outputs": []
    },
    {
      "cell_type": "code",
      "source": [
        "import nltk\n",
        "nltk.download('stopwords')"
      ],
      "metadata": {
        "id": "IbvU2utx4EOz"
      },
      "execution_count": null,
      "outputs": []
    },
    {
      "cell_type": "code",
      "source": [
        "from sklearn.feature_extraction.text import TfidfVectorizer\n",
        "tfidf = TfidfVectorizer(strip_accents = None,\n",
        "                        lowercase=False,\n",
        "                        tokenizer=stemmer_tokenize,\n",
        "                        use_idf = True,\n",
        "                        norm='l2',# norm is distance from origin\n",
        "                        smooth_idf=True)\n",
        "Y = df.sentiment.values\n",
        "X = tfidf.fit_transform(df.review)"
      ],
      "metadata": {
        "id": "odA4rM6-4K5C"
      },
      "execution_count": null,
      "outputs": []
    },
    {
      "cell_type": "code",
      "source": [
        "from sklearn.model_selection import train_test_split #\n",
        "\n",
        "X_train, X_test, Y_train, Y_test = train_test_split(X,Y,random_state=1,test_size=0.5)"
      ],
      "metadata": {
        "id": "REXBaA1N4RE7"
      },
      "execution_count": null,
      "outputs": []
    },
    {
      "cell_type": "code",
      "source": [
        "import pickle\n",
        "from sklearn.linear_model import LogisticRegressionCV\n",
        "\n",
        "clf = LogisticRegressionCV(cv = 5,\n",
        "                     scoring = 'accuracy',\n",
        "                     random_state = 0,\n",
        "                     n_jobs = 1,\n",
        "                     verbose = 2,\n",
        "                     max_iter = 300).fit(X_train,Y_train)\n",
        "saved_model = open('saved_model.sav','wb')\n",
        "pickle.dump(clf,saved_model)\n",
        "saved_model.close()\n",
        "                  "
      ],
      "metadata": {
        "id": "Lqohx6Qu4RBL"
      },
      "execution_count": null,
      "outputs": []
    },
    {
      "cell_type": "code",
      "source": [
        "filename = 'saved_model.sav'\n",
        "saved_clf = pickle.load(open(filename,'rb'))\n",
        "saved_clf.score(X_test,Y_test)"
      ],
      "metadata": {
        "id": "oNSfOUQj4Q6y"
      },
      "execution_count": null,
      "outputs": []
    },
    {
      "cell_type": "code",
      "source": [],
      "metadata": {
        "id": "lL7LyYOO4QwF"
      },
      "execution_count": null,
      "outputs": []
    }
  ]
}